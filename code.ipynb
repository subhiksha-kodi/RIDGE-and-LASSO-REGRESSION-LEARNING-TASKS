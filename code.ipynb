{
 "cells": [
  {
   "cell_type": "markdown",
   "id": "5a9bce08",
   "metadata": {},
   "source": [
    "RIDGE AND LASSO REGRESSION"
   ]
  },
  {
   "cell_type": "markdown",
   "id": "d6ae9781",
   "metadata": {},
   "source": [
    "1. Ridge with strong multicollinearity (2 features)\n",
    "Task: Fit RidgeCV with alphas = logspace(-3, 3, 50). Report best alpha, coefficients, intercept, R² (test), RMSE (test)."
   ]
  },
  {
   "cell_type": "code",
   "execution_count": 4,
   "id": "174ae434",
   "metadata": {},
   "outputs": [
    {
     "name": "stdout",
     "output_type": "stream",
     "text": [
      "Best alpha: 0.0071968567300115215\n",
      "Coefficients: [ 4.41273599 -3.41175106]\n",
      "Intercept: 0.012383721735237843\n",
      "R² (test): 0.6538727524919414\n",
      "RMSE (test): 0.5705925764636008\n"
     ]
    }
   ],
   "source": [
    "import numpy as np \n",
    "import pandas as pd \n",
    "from sklearn.linear_model import RidgeCV\n",
    "from sklearn.metrics import mean_squared_error,r2_score\n",
    "from sklearn.model_selection import train_test_split\n",
    "\n",
    "df=pd.read_csv('ridge_correlated_150.csv')\n",
    "\n",
    "X=df.iloc[:,:-1]\n",
    "y=df.iloc[:,-1]\n",
    "\n",
    "#test_size --> it takes 20% of the data for testing and remaining 80% for training\n",
    "#random_state --> it will select the same data for testing and training each time\n",
    "X_train, X_test, y_train, y_test=train_test_split(X,y,test_size=0.2,random_state=42)\n",
    "\n",
    "alphas=np.logspace(-3,3,50)\n",
    "ridge=RidgeCV(alphas=alphas)  #it will test all alpha values and pick one which gives best performance (lower error on cross-validation(CV))\n",
    "ridge.fit(X_train,y_train)\n",
    "\n",
    "y_pred=ridge.predict(X_test)\n",
    "\n",
    "best_alpha=ridge.alpha_\n",
    "coefficients=ridge.coef_\n",
    "intercept=ridge.intercept_\n",
    "r2=r2_score(y_test,y_pred)\n",
    "rmse=np.sqrt(mean_squared_error(y_test,y_pred))\n",
    "\n",
    "print(f'Best alpha: {best_alpha}')\n",
    "print(f'Coefficients: {coefficients}')\n",
    "print(f'Intercept: {intercept}')\n",
    "print(f'R² (test): {r2}')\n",
    "print(f'RMSE (test): {rmse}')"
   ]
  },
  {
   "cell_type": "markdown",
   "id": "5d7e49f3",
   "metadata": {},
   "source": [
    "2. Ridge with 10 moderately collinear features\n",
    "Task: Fit RidgeCV with alphas = logspace(-3, 3, 50). Report alpha, coefficients, intercept, R² (test), RMSE (test)."
   ]
  },
  {
   "cell_type": "code",
   "execution_count": 5,
   "id": "2303326b",
   "metadata": {},
   "outputs": [
    {
     "name": "stdout",
     "output_type": "stream",
     "text": [
      "Best alpha: 0.655128556859551\n",
      "Coefficients: [ 2.30095156 -1.28258227  0.28615561  1.55443374 -0.18857766 -0.72907171\n",
      " -0.19564402  0.05193988  0.01304106  0.05181519]\n",
      "Intercept: -0.07437205435600158\n",
      "R² (test): 0.9881868768074262\n",
      "RMSE (test): 0.6057776327741521\n"
     ]
    }
   ],
   "source": [
    "import numpy as np\n",
    "import pandas as pd\n",
    "from sklearn.linear_model import RidgeCV\n",
    "from sklearn.metrics import mean_squared_error,r2_score\n",
    "from sklearn.model_selection import train_test_split\n",
    "\n",
    "df=pd.read_csv('ridge_10feat_150.csv')\n",
    "\n",
    "X=df.iloc[:,:-1]\n",
    "y=df.iloc[:,-1]\n",
    "\n",
    "X_train, X_test, y_train, y_test=train_test_split(X,y,test_size=0.2,random_state=42)\n",
    "\n",
    "alphas=np.logspace(-3,3,50)\n",
    "ridge=RidgeCV(alphas=alphas)\n",
    "ridge.fit(X_train,y_train)\n",
    "\n",
    "y_pred=ridge.predict(X_test)\n",
    "\n",
    "best_alpha=ridge.alpha_\n",
    "coefficients=ridge.coef_\n",
    "intercept=ridge.intercept_\n",
    "r2=r2_score(y_test,y_pred)\n",
    "rmse=np.sqrt(mean_squared_error(y_test,y_pred))\n",
    "\n",
    "print(f'Best alpha: {best_alpha}')\n",
    "print(f'Coefficients: {coefficients}')\n",
    "print(f'Intercept: {intercept}')\n",
    "print(f'R² (test): {r2}')\n",
    "print(f'RMSE (test): {rmse}')"
   ]
  },
  {
   "cell_type": "markdown",
   "id": "fc35e13d",
   "metadata": {},
   "source": [
    "3. Lasso on high-dimensional sparse data (30 features)\n",
    "Task: Fit LassoCV (5-fold). Report best alpha, list selected features (non-zero), R² (test), RMSE (test)."
   ]
  },
  {
   "cell_type": "code",
   "execution_count": 1,
   "id": "206dd205",
   "metadata": {},
   "outputs": [
    {
     "name": "stdout",
     "output_type": "stream",
     "text": [
      "Best alpha: 0.06662744526920758\n",
      "Selected features: ['x1', 'x2', 'x3', 'x4', 'x5', 'x6', 'x7', 'x8', 'x9', 'x11', 'x12', 'x13', 'x16', 'x18', 'x21', 'x23', 'x24', 'x26', 'x28', 'x29']\n",
      "R² (test): 0.9620885670252837\n",
      "RMSE (test): 1.1860751609124554\n"
     ]
    },
    {
     "name": "stderr",
     "output_type": "stream",
     "text": [
      "d:\\AI WORKFORCE\\RIDGE AND LASSO REGRESSION LEARNING TASKS\\venv\\Lib\\site-packages\\sklearn\\linear_model\\_coordinate_descent.py:1641: FutureWarning: 'alphas=None' is deprecated and will be removed in 1.9, at which point the default value will be set to 100. Set 'alphas=100' to silence this warning.\n",
      "  warnings.warn(\n"
     ]
    }
   ],
   "source": [
    "import numpy as np\n",
    "import pandas as pd\n",
    "from sklearn.linear_model import LassoCV\n",
    "from sklearn.metrics import mean_squared_error,r2_score\n",
    "from sklearn.model_selection import train_test_split\n",
    "\n",
    "df=pd.read_csv('lasso_sparse_150.csv')\n",
    "\n",
    "X=df.iloc[:,:-1]\n",
    "Y=df.iloc[:,-1]\n",
    "\n",
    "X_train, X_test, Y_train, Y_test=train_test_split(X,Y,test_size=0.2,random_state=42)\n",
    "\n",
    "lasso=LassoCV(cv=5,alphas=None,random_state=42)\n",
    "lasso.fit(X_train,Y_train)\n",
    "\n",
    "Y_pred=lasso.predict(X_test)\n",
    "\n",
    "best_alpha=lasso.alpha_\n",
    "coefficients=lasso.coef_\n",
    "selected_features=[name for name, coef in zip(X.columns,coefficients) if coef!=0]   #it selects the features whose coefficient is not zero\n",
    "r2=r2_score(Y_test,Y_pred)\n",
    "rmse=np.sqrt(mean_squared_error(Y_test,Y_pred))\n",
    "\n",
    "print(f'Best alpha: {best_alpha}')\n",
    "print(f'Selected features: {selected_features}')\n",
    "print(f'R² (test): {r2}')\n",
    "print(f'RMSE (test): {rmse}')"
   ]
  },
  {
   "cell_type": "markdown",
   "id": "88301d8c",
   "metadata": {},
   "source": [
    "4. Lasso with grouped/overlapping signals\n",
    "Task: Fit LassoCV (5-fold). Report alpha, coefficients, intercept, R² (test), RMSE (test).\n",
    " (Goal: see how Lasso picks one from correlated pairs xA/xB and xC/xD.)"
   ]
  },
  {
   "cell_type": "code",
   "execution_count": 6,
   "id": "849a294e",
   "metadata": {},
   "outputs": [
    {
     "name": "stdout",
     "output_type": "stream",
     "text": [
      "Best alpha: 0.003608591334120754\n",
      "Coefficients: [ 2.04028628 -0.          1.60923693  0.         -0.16289269]\n",
      "Intercept: -0.06746553791233204\n",
      "R² (test): 0.9139898313782668\n",
      "RMSE (test): 0.9098913642117109\n",
      "Pair ('xA', 'xB'): kept -> ['xA'],dropped -> ['xB']\n",
      "Pair ('xC', 'xD'): kept -> ['xC'],dropped -> ['xD']\n"
     ]
    },
    {
     "name": "stderr",
     "output_type": "stream",
     "text": [
      "d:\\AI WORKFORCE\\RIDGE AND LASSO REGRESSION LEARNING TASKS\\venv\\Lib\\site-packages\\sklearn\\linear_model\\_coordinate_descent.py:1641: FutureWarning: 'alphas=None' is deprecated and will be removed in 1.9, at which point the default value will be set to 100. Set 'alphas=100' to silence this warning.\n",
      "  warnings.warn(\n"
     ]
    }
   ],
   "source": [
    "import numpy as np\n",
    "import pandas as pd\n",
    "from sklearn.linear_model import LassoCV\n",
    "from sklearn.metrics import mean_squared_error,r2_score\n",
    "from sklearn.model_selection import train_test_split\n",
    "\n",
    "df=pd.read_csv('lasso_groups_150.csv')\n",
    "\n",
    "X=df.iloc[:,:-1]\n",
    "y=df.iloc[:,-1]\n",
    "\n",
    "X_train, X_test, y_train, y_test=train_test_split(X,y,test_size=0.2,random_state=42)\n",
    "\n",
    "lasso=LassoCV(cv=5,alphas=None,random_state=42)\n",
    "lasso.fit(X_train,y_train)\n",
    "\n",
    "y_pred=lasso.predict(X_test)\n",
    "\n",
    "best_alpha=lasso.alpha_\n",
    "coefficients=lasso.coef_\n",
    "intercept=lasso.intercept_\n",
    "r2=r2_score(y_test,y_pred)\n",
    "rmse=np.sqrt(mean_squared_error(y_test,y_pred))\n",
    "\n",
    "print(f'Best alpha: {best_alpha}')\n",
    "print(f'Coefficients: {coefficients}')\n",
    "print(f'Intercept: {intercept}')\n",
    "print(f'R² (test): {r2}')\n",
    "print(f'RMSE (test): {rmse}')\n",
    "\n",
    "#lasso selects only one of the correlated features and set the others to zero\n",
    "#kept --> non zero coefficients, dropped --> zero coefficients\n",
    "coef_dict=dict(zip(X.columns,coefficients))\n",
    "pairs=[('xA','xB'),('xC','xD')]\n",
    "for pair in pairs:\n",
    "  kept=[f for f in pair if coef_dict[f]!=0]\n",
    "  dropped=[f for f in pair if coef_dict[f]==0]\n",
    "  print(f'Pair {pair}: kept -> {kept},dropped -> {dropped}')"
   ]
  },
  {
   "cell_type": "markdown",
   "id": "91fd5e79",
   "metadata": {},
   "source": [
    "5. Quadratic model vs linear baseline\n",
    "Task:\n",
    "Fit linear model y ~ x, record test R² and RMSE.\n",
    "Fit polynomial (degree=2) model y ~ x + x², record coefficients & test metrics.\n",
    "Predict y at x = 1.5 using the polynomial model."
   ]
  },
  {
   "cell_type": "code",
   "execution_count": 8,
   "id": "9991723b",
   "metadata": {},
   "outputs": [
    {
     "name": "stdout",
     "output_type": "stream",
     "text": [
      "Linear Model Results\n",
      "Intercept: -0.06676345438486156\n",
      "Coefficients: 2.7703542957458045\n",
      "R² (test): 0.890481731073773\n",
      "RMSE (test): 1.7497017806063881\n",
      "\n",
      "Quadratic Model Results\n",
      "Intercept: 1.9542801042051452\n",
      "Coefficients: [ 3.04036622 -0.70463416]\n",
      "R² (test): 0.975208521028767\n",
      "RMSE (test): 0.8324764690249341\n",
      "\n",
      "Prediction at x=1.5: 4.929402576921072\n"
     ]
    },
    {
     "name": "stderr",
     "output_type": "stream",
     "text": [
      "d:\\AI WORKFORCE\\RIDGE AND LASSO REGRESSION LEARNING TASKS\\venv\\Lib\\site-packages\\sklearn\\utils\\validation.py:2749: UserWarning: X does not have valid feature names, but PolynomialFeatures was fitted with feature names\n",
      "  warnings.warn(\n"
     ]
    }
   ],
   "source": [
    "import numpy as np\n",
    "import pandas as pd\n",
    "from sklearn.linear_model import LinearRegression\n",
    "from sklearn.preprocessing import PolynomialFeatures\n",
    "from sklearn.metrics import mean_squared_error,r2_score\n",
    "from sklearn.model_selection import train_test_split\n",
    "\n",
    "df=pd.read_csv('poly_quadratic_150.csv')\n",
    "\n",
    "X=df.iloc[:,:-1]\n",
    "y=df.iloc[:,-1]\n",
    "\n",
    "X_train, X_test, y_train, y_test=train_test_split(X,y,test_size=0.2,random_state=42)\n",
    "\n",
    "#Linear\n",
    "model=LinearRegression()\n",
    "model.fit(X_train,y_train)\n",
    "\n",
    "y_pred=model.predict(X_test)\n",
    "\n",
    "r2=r2_score(y_test,y_pred)\n",
    "rmse=np.sqrt(mean_squared_error(y_test,y_pred))\n",
    "\n",
    "print('Linear Model Results')\n",
    "print(f'Intercept: {model.intercept_}')\n",
    "print(f'Coefficients: {model.coef_[0]}')\n",
    "print(f'R² (test): {r2}')\n",
    "print(f'RMSE (test): {rmse}')\n",
    "\n",
    "#Quadratic\n",
    "poly=PolynomialFeatures(degree=2,include_bias=False)  #degree=2 --> x^2, include_bias --> avoids adding a new column of 1s(Intercept)\n",
    "X_train_poly=poly.fit_transform(X_train)   #Converts training and testing x into [x, x²]\n",
    "X_test_poly=poly.transform(X_test)  \n",
    "\n",
    "poly_model=LinearRegression()   #Fits a linear regression, but now on two features: x and x² (y=intercept+a⋅x+b⋅x2)\n",
    "poly_model.fit(X_train_poly,y_train)  \n",
    "\n",
    "y_pred_poly=poly_model.predict(X_test_poly)\n",
    "r2_poly=r2_score(y_test,y_pred_poly)\n",
    "rmse_poly=np.sqrt(mean_squared_error(y_test,y_pred_poly))\n",
    "\n",
    "print('\\nQuadratic Model Results')\n",
    "print(f'Intercept: {poly_model.intercept_}')\n",
    "print(f'Coefficients: {poly_model.coef_}')\n",
    "print(f'R² (test): {r2_poly}')\n",
    "print(f'RMSE (test): {rmse_poly}')\n",
    "\n",
    "x_new=np.array([[1.5]])\n",
    "x_new_poly=poly.transform(x_new)\n",
    "y_pred_new=poly_model.predict(x_new_poly)\n",
    "print(f'\\nPrediction at x=1.5: {y_pred_new[0]}')"
   ]
  }
 ],
 "metadata": {
  "kernelspec": {
   "display_name": "Python 3",
   "language": "python",
   "name": "python3"
  },
  "language_info": {
   "codemirror_mode": {
    "name": "ipython",
    "version": 3
   },
   "file_extension": ".py",
   "mimetype": "text/x-python",
   "name": "python",
   "nbconvert_exporter": "python",
   "pygments_lexer": "ipython3",
   "version": "3.13.0"
  }
 },
 "nbformat": 4,
 "nbformat_minor": 5
}
